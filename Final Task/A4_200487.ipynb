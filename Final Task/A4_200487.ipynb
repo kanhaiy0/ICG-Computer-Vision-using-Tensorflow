{
  "nbformat": 4,
  "nbformat_minor": 0,
  "metadata": {
    "colab": {
      "name": "ICG-CVwTF-Final_Task.ipynb",
      "provenance": [],
      "collapsed_sections": []
    },
    "kernelspec": {
      "name": "python3",
      "display_name": "Python 3"
    },
    "language_info": {
      "name": "python"
    },
    "accelerator": "GPU",
    "gpuClass": "standard"
  },
  "cells": [
    {
      "cell_type": "markdown",
      "source": [
        "## Final Task:\n",
        "This is your final evaluation for the project. As decided, we will be predicting images of people into three classes: `without_mask`, `mask_weared_incorrect` and `with_mask`. "
      ],
      "metadata": {
        "id": "rtI19Rt-H7Uc"
      }
    },
    {
      "cell_type": "code",
      "source": [
        "import tensorflow as tf"
      ],
      "metadata": {
        "id": "c2CiXcHQTbX8"
      },
      "execution_count": 28,
      "outputs": []
    },
    {
      "cell_type": "markdown",
      "source": [
        "### Loading the dataset\n",
        "Make a copy of the dataset given to you in your Google Drive (keep it outside, don't put it in any folder to avoid inconvenience). Ensure it is named as `Mask_Dataset` or change the path (the variable `data_dir`) accordingly."
      ],
      "metadata": {
        "id": "QKDPyiZTIm1c"
      }
    },
    {
      "cell_type": "code",
      "source": [
        "from google.colab import drive\n",
        "drive.mount('/content/drive')"
      ],
      "metadata": {
        "id": "A5_ZPKhaqKzB",
        "outputId": "c0883941-64d9-470d-dcaf-d89df18eaae0",
        "colab": {
          "base_uri": "https://localhost:8080/"
        }
      },
      "execution_count": 29,
      "outputs": [
        {
          "output_type": "stream",
          "name": "stdout",
          "text": [
            "Mounted at /content/drive\n"
          ]
        }
      ]
    },
    {
      "cell_type": "code",
      "source": [
        "import pathlib\n",
        "\n",
        "path='/content/drive/MyDrive/Mask_Dataset/'\n",
        "data_dir = pathlib.Path(path)"
      ],
      "metadata": {
        "id": "8CXzo4MOJOl8"
      },
      "execution_count": 30,
      "outputs": []
    },
    {
      "cell_type": "markdown",
      "source": [
        "### Know the Dataset\n",
        "Most of the code is written for you as you aren't used to these libraries. You are to go through the documentation for your benefit."
      ],
      "metadata": {
        "id": "YHPHkGyDKscK"
      }
    },
    {
      "cell_type": "code",
      "source": [
        "# Print image count\n",
        "image_count = len(list(data_dir.glob('*/*.png')))\n",
        "print(image_count)"
      ],
      "metadata": {
        "colab": {
          "base_uri": "https://localhost:8080/"
        },
        "id": "PzbSy-vXKjD-",
        "outputId": "7f746efc-b97c-45f9-ff8a-cfdcc9a9a109"
      },
      "execution_count": 31,
      "outputs": [
        {
          "output_type": "stream",
          "name": "stdout",
          "text": [
            "8982\n"
          ]
        }
      ]
    },
    {
      "cell_type": "code",
      "source": [
        "# Print Output Labels\n",
        "import os\n",
        "output_classes = os.listdir(data_dir)\n",
        "print(output_classes)"
      ],
      "metadata": {
        "colab": {
          "base_uri": "https://localhost:8080/"
        },
        "id": "rFHWFYj5NCVm",
        "outputId": "79289fae-1c57-44d2-8902-f80ba7d57cea"
      },
      "execution_count": 32,
      "outputs": [
        {
          "output_type": "stream",
          "name": "stdout",
          "text": [
            "['without_mask', 'mask_weared_incorrect', 'with_mask']\n"
          ]
        }
      ]
    },
    {
      "cell_type": "code",
      "source": [
        "# Plot count of each ouput label\n",
        "import matplotlib.pyplot as plt\n",
        "\n",
        "count=[]\n",
        "for label in output_classes:\n",
        "  this_path=path+label\n",
        "  dir=pathlib.Path(this_path)\n",
        "  im_count=os.listdir(dir)\n",
        "  count.append(len(im_count))\n",
        "\n",
        "print(count)\n",
        "\n",
        "plt.bar(output_classes,count)\n",
        "plt.title(\"Statistics\")\n",
        "plt.show()"
      ],
      "metadata": {
        "colab": {
          "base_uri": "https://localhost:8080/",
          "height": 299
        },
        "id": "fESyMw90KaxN",
        "outputId": "6c6679f5-c85d-4ad7-92f9-9bfd86928953"
      },
      "execution_count": 33,
      "outputs": [
        {
          "output_type": "stream",
          "name": "stdout",
          "text": [
            "[2994, 2994, 2994]\n"
          ]
        },
        {
          "output_type": "display_data",
          "data": {
            "text/plain": [
              "<Figure size 432x288 with 1 Axes>"
            ],
            "image/png": "[encoded data removed]"
          },
          "metadata": {
            "needs_background": "light"
          }
        }
      ]
    },
    {
      "cell_type": "code",
      "source": [
        "# Check some sample images (Use of cv2)\n",
        "import cv2\n",
        "from google.colab.patches import cv2_imshow\n",
        "img= cv2.imread(\"/content/drive/MyDrive/Mask_Dataset/mask_weared_incorrect/1004.png\")\n",
        "cv2_imshow(img)\n",
        "\n",
        "# Your code"
      ],
      "metadata": {
        "id": "HDSJ2Zk5a14s",
        "outputId": "b9a9dde9-4365-4623-d27d-045d05fddf5b",
        "colab": {
          "base_uri": "https://localhost:8080/",
          "height": 145
        }
      },
      "execution_count": 36,
      "outputs": [
        {
          "output_type": "display_data",
          "data": {
            "text/plain": [
              "<PIL.Image.Image image mode=RGB size=128x128 at 0x7FA7A74FC8D0>"
            ],
            "image/png": "[encoded data removed]"
          },
          "metadata": {}
        }
      ]
    },
    {
      "cell_type": "code",
      "source": [
        "img= cv2.imread(\"/content/drive/MyDrive/Mask_Dataset/with_mask/1003.png\")\n",
        "cv2_imshow(img)"
      ],
      "metadata": {
        "id": "nG0cZZB9r6Ly",
        "outputId": "2129b8ec-fcee-4e88-e0df-1fa2d81de149",
        "colab": {
          "base_uri": "https://localhost:8080/",
          "height": 145
        }
      },
      "execution_count": 53,
      "outputs": [
        {
          "output_type": "display_data",
          "data": {
            "text/plain": [
              "<PIL.Image.Image image mode=RGB size=128x128 at 0x7FA7C15BDC10>"
            ],
            "image/png": "[encoded data removed]"
          },
          "metadata": {}
        }
      ]
    },
    {
      "cell_type": "code",
      "source": [
        "\n",
        "img2=cv2.imread('/content/drive/MyDrive/Mask_Dataset/mask_weared_incorrect/1008.png') \n",
        "img2.shape\n",
        "# Check shape of the images in your dataset. This will be helpful while specifying input_shape in your Transfer Learning Model"
      ],
      "metadata": {
        "id": "jWBEMC1FUfXS",
        "outputId": "7442c34e-ea0d-4e4c-ff5f-a2119a80e45f",
        "colab": {
          "base_uri": "https://localhost:8080/"
        }
      },
      "execution_count": 38,
      "outputs": [
        {
          "output_type": "execute_result",
          "data": {
            "text/plain": [
              "(128, 128, 3)"
            ]
          },
          "metadata": {},
          "execution_count": 38
        }
      ]
    },
    {
      "cell_type": "code",
      "source": [
        "# Check if all the images have same shape, else you need to resize them to some common size\n",
        "# The code provided as it is above in the template will help\n",
        "flag=False\n",
        "pixel=(128,128,3) \n",
        "\n",
        "for label in output_classes:\n",
        "  this_path=path+label\n",
        "  dir=pathlib.Path(this_path)\n",
        "  im_count=os.listdir(dir)\n",
        "  for i in range(len(im_count)):\n",
        "    image = this_path+'/'+im_count[i] \n",
        "    testing=cv2.imread(image)\n",
        "    if testing.shape!=pixel:\n",
        "      flag=True\n",
        "\n",
        "if(flag==True):\n",
        "  print(\" all images have not same size\")\n",
        "else:\n",
        "  print(\" all images have the same size\") "
      ],
      "metadata": {
        "id": "52BhBWRab5yc",
        "outputId": "d4f11abd-3d83-4e07-f76e-5d5156c9734d",
        "colab": {
          "base_uri": "https://localhost:8080/"
        }
      },
      "execution_count": 39,
      "outputs": [
        {
          "output_type": "stream",
          "name": "stdout",
          "text": [
            " all images have the same size\n"
          ]
        }
      ]
    },
    {
      "cell_type": "code",
      "source": [
        "# If the shape is variable, reshape to a common size \n",
        "# If it is same, prove it"
      ],
      "metadata": {
        "id": "G-Atau4Rfc-x"
      },
      "execution_count": null,
      "outputs": []
    },
    {
      "cell_type": "code",
      "source": [
        "# Anything else you want to plot/experiment"
      ],
      "metadata": {
        "id": "F0XHxMo2RVQd"
      },
      "execution_count": null,
      "outputs": []
    },
    {
      "cell_type": "markdown",
      "source": [
        "### Model Definition\n",
        "Choose a model for Transfer Learning (You may also experment with multiple models and keep all of them in this notebook)"
      ],
      "metadata": {
        "id": "zSoUXS1cRbnu"
      }
    },
    {
      "cell_type": "code",
      "source": [
        "from tensorflow import keras\n",
        "from tensorflow.keras.layers import Input, Lambda, Dense, Flatten\n",
        "from tensorflow.keras.models import Model\n",
        "from tensorflow.keras.preprocessing import image\n",
        "from tensorflow.keras.models import Sequential\n",
        "from tensorflow.keras.optimizers import Adam"
      ],
      "metadata": {
        "id": "QKZmIgXMTHfy"
      },
      "execution_count": 15,
      "outputs": []
    },
    {
      "cell_type": "code",
      "source": [
        "# Choose and define base model\n",
        "base_model = keras.applications.ResNet50(\n",
        "    weights=\"imagenet\", \n",
        "    include_top=False, # Do not include the ImageNet classifier/ fully connected layer at the top.\n",
        ")"
      ],
      "metadata": {
        "id": "9xWLUibHRNGj"
      },
      "execution_count": 16,
      "outputs": []
    },
    {
      "cell_type": "code",
      "source": [
        "base_model.summary()\n",
        "# Print base model summary and have a look at the layers"
      ],
      "metadata": {
        "id": "J3TwB_GLd7BU",
        "outputId": "24029e46-beff-43db-ef10-d09b9a9f34f6",
        "colab": {
          "base_uri": "https://localhost:8080/"
        }
      },
      "execution_count": 17,
      "outputs": [
        {
          "output_type": "stream",
          "name": "stdout",
          "text": [
            "Model: \"resnet50\"\n",
            "__________________________________________________________________________________________________\n",
            " Layer (type)                   Output Shape         Param #     Connected to                     \n",
            "==================================================================================================\n",
            " input_3 (InputLayer)           [(None, None, None,  0           []                               \n",
            "                                 3)]                                                              \n",
            "                                                                                                  \n",
            " conv1_pad (ZeroPadding2D)      (None, None, None,   0           ['input_3[0][0]']                \n",
            "                                3)                                                                \n",
            "                                                                                                  \n",
            " conv1_conv (Conv2D)            (None, None, None,   9472        ['conv1_pad[0][0]']              \n",
            "                                64)                                                               \n",
            "                                                                                                  \n",
            " conv1_bn (BatchNormalization)  (None, None, None,   256         ['conv1_conv[0][0]']             \n",
            "                                64)                                                               \n",
            "                                                                                                  \n",
            " conv1_relu (Activation)        (None, None, None,   0           ['conv1_bn[0][0]']               \n",
            "                                64)                                                               \n",
            "                                                                                                  \n",
            " pool1_pad (ZeroPadding2D)      (None, None, None,   0           ['conv1_relu[0][0]']             \n",
            "                                64)                                                               \n",
            "                                                                                                  \n",
            " pool1_pool (MaxPooling2D)      (None, None, None,   0           ['pool1_pad[0][0]']              \n",
            "                                64)                                                               \n",
            "                                                                                                  \n",
            " conv2_block1_1_conv (Conv2D)   (None, None, None,   4160        ['pool1_pool[0][0]']             \n",
            "                                64)                                                               \n",
            "                                                                                                  \n",
            " conv2_block1_1_bn (BatchNormal  (None, None, None,   256        ['conv2_block1_1_conv[0][0]']    \n",
            " ization)                       64)                                                               \n",
            "                                                                                                  \n",
            " conv2_block1_1_relu (Activatio  (None, None, None,   0          ['conv2_block1_1_bn[0][0]']      \n",
            " n)                             64)                                                               \n",
            "                                                                                                  \n",
            " conv2_block1_2_conv (Conv2D)   (None, None, None,   36928       ['conv2_block1_1_relu[0][0]']    \n",
            "                                64)                                                               \n",
            "                                                                                                  \n",
            " conv2_block1_2_bn (BatchNormal  (None, None, None,   256        ['conv2_block1_2_conv[0][0]']    \n",
            " ization)                       64)                                                               \n",
            "                                                                                                  \n",
            " conv2_block1_2_relu (Activatio  (None, None, None,   0          ['conv2_block1_2_bn[0][0]']      \n",
            " n)                             64)                                                               \n",
            "                                                                                                  \n",
            " conv2_block1_0_conv (Conv2D)   (None, None, None,   16640       ['pool1_pool[0][0]']             \n",
            "                                256)                                                              \n",
            "                                                                                                  \n",
            " conv2_block1_3_conv (Conv2D)   (None, None, None,   16640       ['conv2_block1_2_relu[0][0]']    \n",
            "                                256)                                                              \n",
            "                                                                                                  \n",
            " conv2_block1_0_bn (BatchNormal  (None, None, None,   1024       ['conv2_block1_0_conv[0][0]']    \n",
            " ization)                       256)                                                              \n",
            "                                                                                                  \n",
            " conv2_block1_3_bn (BatchNormal  (None, None, None,   1024       ['conv2_block1_3_conv[0][0]']    \n",
            " ization)                       256)                                                              \n",
            "                                                                                                  \n",
            " conv2_block1_add (Add)         (None, None, None,   0           ['conv2_block1_0_bn[0][0]',      \n",
            "                                256)                              'conv2_block1_3_bn[0][0]']      \n",
            "                                                                                                  \n",
            " conv2_block1_out (Activation)  (None, None, None,   0           ['conv2_block1_add[0][0]']       \n",
            "                                256)                                                              \n",
            "                                                                                                  \n",
            " conv2_block2_1_conv (Conv2D)   (None, None, None,   16448       ['conv2_block1_out[0][0]']       \n",
            "                                64)                                                               \n",
            "                                                                                                  \n",
            " conv2_block2_1_bn (BatchNormal  (None, None, None,   256        ['conv2_block2_1_conv[0][0]']    \n",
            " ization)                       64)                                                               \n",
            "                                                                                                  \n",
            " conv2_block2_1_relu (Activatio  (None, None, None,   0          ['conv2_block2_1_bn[0][0]']      \n",
            " n)                             64)                                                               \n",
            "                                                                                                  \n",
            " conv2_block2_2_conv (Conv2D)   (None, None, None,   36928       ['conv2_block2_1_relu[0][0]']    \n",
            "                                64)                                                               \n",
            "                                                                                                  \n",
            " conv2_block2_2_bn (BatchNormal  (None, None, None,   256        ['conv2_block2_2_conv[0][0]']    \n",
            " ization)                       64)                                                               \n",
            "                                                                                                  \n",
            " conv2_block2_2_relu (Activatio  (None, None, None,   0          ['conv2_block2_2_bn[0][0]']      \n",
            " n)                             64)                                                               \n",
            "                                                                                                  \n",
            " conv2_block2_3_conv (Conv2D)   (None, None, None,   16640       ['conv2_block2_2_relu[0][0]']    \n",
            "                                256)                                                              \n",
            "                                                                                                  \n",
            " conv2_block2_3_bn (BatchNormal  (None, None, None,   1024       ['conv2_block2_3_conv[0][0]']    \n",
            " ization)                       256)                                                              \n",
            "                                                                                                  \n",
            " conv2_block2_add (Add)         (None, None, None,   0           ['conv2_block1_out[0][0]',       \n",
            "                                256)                              'conv2_block2_3_bn[0][0]']      \n",
            "                                                                                                  \n",
            " conv2_block2_out (Activation)  (None, None, None,   0           ['conv2_block2_add[0][0]']       \n",
            "                                256)                                                              \n",
            "                                                                                                  \n",
            " conv2_block3_1_conv (Conv2D)   (None, None, None,   16448       ['conv2_block2_out[0][0]']       \n",
            "                                64)                                                               \n",
            "                                                                                                  \n",
            " conv2_block3_1_bn (BatchNormal  (None, None, None,   256        ['conv2_block3_1_conv[0][0]']    \n",
            " ization)                       64)                                                               \n",
            "                                                                                                  \n",
            " conv2_block3_1_relu (Activatio  (None, None, None,   0          ['conv2_block3_1_bn[0][0]']      \n",
            " n)                             64)                                                               \n",
            "                                                                                                  \n",
            " conv2_block3_2_conv (Conv2D)   (None, None, None,   36928       ['conv2_block3_1_relu[0][0]']    \n",
            "                                64)                                                               \n",
            "                                                                                                  \n",
            " conv2_block3_2_bn (BatchNormal  (None, None, None,   256        ['conv2_block3_2_conv[0][0]']    \n",
            " ization)                       64)                                                               \n",
            "                                                                                                  \n",
            " conv2_block3_2_relu (Activatio  (None, None, None,   0          ['conv2_block3_2_bn[0][0]']      \n",
            " n)                             64)                                                               \n",
            "                                                                                                  \n",
            " conv2_block3_3_conv (Conv2D)   (None, None, None,   16640       ['conv2_block3_2_relu[0][0]']    \n",
            "                                256)                                                              \n",
            "                                                                                                  \n",
            " conv2_block3_3_bn (BatchNormal  (None, None, None,   1024       ['conv2_block3_3_conv[0][0]']    \n",
            " ization)                       256)                                                              \n",
            "                                                                                                  \n",
            " conv2_block3_add (Add)         (None, None, None,   0           ['conv2_block2_out[0][0]',       \n",
            "                                256)                              'conv2_block3_3_bn[0][0]']      \n",
            "                                                                                                  \n",
            " conv2_block3_out (Activation)  (None, None, None,   0           ['conv2_block3_add[0][0]']       \n",
            "                                256)                                                              \n",
            "                                                                                                  \n",
            " conv3_block1_1_conv (Conv2D)   (None, None, None,   32896       ['conv2_block3_out[0][0]']       \n",
            "                                128)                                                              \n",
            "                                                                                                  \n",
            " conv3_block1_1_bn (BatchNormal  (None, None, None,   512        ['conv3_block1_1_conv[0][0]']    \n",
            " ization)                       128)                                                              \n",
            "                                                                                                  \n",
            " conv3_block1_1_relu (Activatio  (None, None, None,   0          ['conv3_block1_1_bn[0][0]']      \n",
            " n)                             128)                                                              \n",
            "                                                                                                  \n",
            " conv3_block1_2_conv (Conv2D)   (None, None, None,   147584      ['conv3_block1_1_relu[0][0]']    \n",
            "                                128)                                                              \n",
            "                                                                                                  \n",
            " conv3_block1_2_bn (BatchNormal  (None, None, None,   512        ['conv3_block1_2_conv[0][0]']    \n",
            " ization)                       128)                                                              \n",
            "                                                                                                  \n",
            " conv3_block1_2_relu (Activatio  (None, None, None,   0          ['conv3_block1_2_bn[0][0]']      \n",
            " n)                             128)                                                              \n",
            "                                                                                                  \n",
            " conv3_block1_0_conv (Conv2D)   (None, None, None,   131584      ['conv2_block3_out[0][0]']       \n",
            "                                512)                                                              \n",
            "                                                                                                  \n",
            " conv3_block1_3_conv (Conv2D)   (None, None, None,   66048       ['conv3_block1_2_relu[0][0]']    \n",
            "                                512)                                                              \n",
            "                                                                                                  \n",
            " conv3_block1_0_bn (BatchNormal  (None, None, None,   2048       ['conv3_block1_0_conv[0][0]']    \n",
            " ization)                       512)                                                              \n",
            "                                                                                                  \n",
            " conv3_block1_3_bn (BatchNormal  (None, None, None,   2048       ['conv3_block1_3_conv[0][0]']    \n",
            " ization)                       512)                                                              \n",
            "                                                                                                  \n",
            " conv3_block1_add (Add)         (None, None, None,   0           ['conv3_block1_0_bn[0][0]',      \n",
            "                                512)                              'conv3_block1_3_bn[0][0]']      \n",
            "                                                                                                  \n",
            " conv3_block1_out (Activation)  (None, None, None,   0           ['conv3_block1_add[0][0]']       \n",
            "                                512)                                                              \n",
            "                                                                                                  \n",
            " conv3_block2_1_conv (Conv2D)   (None, None, None,   65664       ['conv3_block1_out[0][0]']       \n",
            "                                128)                                                              \n",
            "                                                                                                  \n",
            " conv3_block2_1_bn (BatchNormal  (None, None, None,   512        ['conv3_block2_1_conv[0][0]']    \n",
            " ization)                       128)                                                              \n",
            "                                                                                                  \n",
            " conv3_block2_1_relu (Activatio  (None, None, None,   0          ['conv3_block2_1_bn[0][0]']      \n",
            " n)                             128)                                                              \n",
            "                                                                                                  \n",
            " conv3_block2_2_conv (Conv2D)   (None, None, None,   147584      ['conv3_block2_1_relu[0][0]']    \n",
            "                                128)                                                              \n",
            "                                                                                                  \n",
            " conv3_block2_2_bn (BatchNormal  (None, None, None,   512        ['conv3_block2_2_conv[0][0]']    \n",
            " ization)                       128)                                                              \n",
            "                                                                                                  \n",
            " conv3_block2_2_relu (Activatio  (None, None, None,   0          ['conv3_block2_2_bn[0][0]']      \n",
            " n)                             128)                                                              \n",
            "                                                                                                  \n",
            " conv3_block2_3_conv (Conv2D)   (None, None, None,   66048       ['conv3_block2_2_relu[0][0]']    \n",
            "                                512)                                                              \n",
            "                                                                                                  \n",
            " conv3_block2_3_bn (BatchNormal  (None, None, None,   2048       ['conv3_block2_3_conv[0][0]']    \n",
            " ization)                       512)                                                              \n",
            "                                                                                                  \n",
            " conv3_block2_add (Add)         (None, None, None,   0           ['conv3_block1_out[0][0]',       \n",
            "                                512)                              'conv3_block2_3_bn[0][0]']      \n",
            "                                                                                                  \n",
            " conv3_block2_out (Activation)  (None, None, None,   0           ['conv3_block2_add[0][0]']       \n",
            "                                512)                                                              \n",
            "                                                                                                  \n",
            " conv3_block3_1_conv (Conv2D)   (None, None, None,   65664       ['conv3_block2_out[0][0]']       \n",
            "                                128)                                                              \n",
            "                                                                                                  \n",
            " conv3_block3_1_bn (BatchNormal  (None, None, None,   512        ['conv3_block3_1_conv[0][0]']    \n",
            " ization)                       128)                                                              \n",
            "                                                                                                  \n",
            " conv3_block3_1_relu (Activatio  (None, None, None,   0          ['conv3_block3_1_bn[0][0]']      \n",
            " n)                             128)                                                              \n",
            "                                                                                                  \n",
            " conv3_block3_2_conv (Conv2D)   (None, None, None,   147584      ['conv3_block3_1_relu[0][0]']    \n",
            "                                128)                                                              \n",
            "                                                                                                  \n",
            " conv3_block3_2_bn (BatchNormal  (None, None, None,   512        ['conv3_block3_2_conv[0][0]']    \n",
            " ization)                       128)                                                              \n",
            "                                                                                                  \n",
            " conv3_block3_2_relu (Activatio  (None, None, None,   0          ['conv3_block3_2_bn[0][0]']      \n",
            " n)                             128)                                                              \n",
            "                                                                                                  \n",
            " conv3_block3_3_conv (Conv2D)   (None, None, None,   66048       ['conv3_block3_2_relu[0][0]']    \n",
            "                                512)                                                              \n",
            "                                                                                                  \n",
            " conv3_block3_3_bn (BatchNormal  (None, None, None,   2048       ['conv3_block3_3_conv[0][0]']    \n",
            " ization)                       512)                                                              \n",
            "                                                                                                  \n",
            " conv3_block3_add (Add)         (None, None, None,   0           ['conv3_block2_out[0][0]',       \n",
            "                                512)                              'conv3_block3_3_bn[0][0]']      \n",
            "                                                                                                  \n",
            " conv3_block3_out (Activation)  (None, None, None,   0           ['conv3_block3_add[0][0]']       \n",
            "                                512)                                                              \n",
            "                                                                                                  \n",
            " conv3_block4_1_conv (Conv2D)   (None, None, None,   65664       ['conv3_block3_out[0][0]']       \n",
            "                                128)                                                              \n",
            "                                                                                                  \n",
            " conv3_block4_1_bn (BatchNormal  (None, None, None,   512        ['conv3_block4_1_conv[0][0]']    \n",
            " ization)                       128)                                                              \n",
            "                                                                                                  \n",
            " conv3_block4_1_relu (Activatio  (None, None, None,   0          ['conv3_block4_1_bn[0][0]']      \n",
            " n)                             128)                                                              \n",
            "                                                                                                  \n",
            " conv3_block4_2_conv (Conv2D)   (None, None, None,   147584      ['conv3_block4_1_relu[0][0]']    \n",
            "                                128)                                                              \n",
            "                                                                                                  \n",
            " conv3_block4_2_bn (BatchNormal  (None, None, None,   512        ['conv3_block4_2_conv[0][0]']    \n",
            " ization)                       128)                                                              \n",
            "                                                                                                  \n",
            " conv3_block4_2_relu (Activatio  (None, None, None,   0          ['conv3_block4_2_bn[0][0]']      \n",
            " n)                             128)                                                              \n",
            "                                                                                                  \n",
            " conv3_block4_3_conv (Conv2D)   (None, None, None,   66048       ['conv3_block4_2_relu[0][0]']    \n",
            "                                512)                                                              \n",
            "                                                                                                  \n",
            " conv3_block4_3_bn (BatchNormal  (None, None, None,   2048       ['conv3_block4_3_conv[0][0]']    \n",
            " ization)                       512)                                                              \n",
            "                                                                                                  \n",
            " conv3_block4_add (Add)         (None, None, None,   0           ['conv3_block3_out[0][0]',       \n",
            "                                512)                              'conv3_block4_3_bn[0][0]']      \n",
            "                                                                                                  \n",
            " conv3_block4_out (Activation)  (None, None, None,   0           ['conv3_block4_add[0][0]']       \n",
            "                                512)                                                              \n",
            "                                                                                                  \n",
            " conv4_block1_1_conv (Conv2D)   (None, None, None,   131328      ['conv3_block4_out[0][0]']       \n",
            "                                256)                                                              \n",
            "                                                                                                  \n",
            " conv4_block1_1_bn (BatchNormal  (None, None, None,   1024       ['conv4_block1_1_conv[0][0]']    \n",
            " ization)                       256)                                                              \n",
            "                                                                                                  \n",
            " conv4_block1_1_relu (Activatio  (None, None, None,   0          ['conv4_block1_1_bn[0][0]']      \n",
            " n)                             256)                                                              \n",
            "                                                                                                  \n",
            " conv4_block1_2_conv (Conv2D)   (None, None, None,   590080      ['conv4_block1_1_relu[0][0]']    \n",
            "                                256)                                                              \n",
            "                                                                                                  \n",
            " conv4_block1_2_bn (BatchNormal  (None, None, None,   1024       ['conv4_block1_2_conv[0][0]']    \n",
            " ization)                       256)                                                              \n",
            "                                                                                                  \n",
            " conv4_block1_2_relu (Activatio  (None, None, None,   0          ['conv4_block1_2_bn[0][0]']      \n",
            " n)                             256)                                                              \n",
            "                                                                                                  \n",
            " conv4_block1_0_conv (Conv2D)   (None, None, None,   525312      ['conv3_block4_out[0][0]']       \n",
            "                                1024)                                                             \n",
            "                                                                                                  \n",
            " conv4_block1_3_conv (Conv2D)   (None, None, None,   263168      ['conv4_block1_2_relu[0][0]']    \n",
            "                                1024)                                                             \n",
            "                                                                                                  \n",
            " conv4_block1_0_bn (BatchNormal  (None, None, None,   4096       ['conv4_block1_0_conv[0][0]']    \n",
            " ization)                       1024)                                                             \n",
            "                                                                                                  \n",
            " conv4_block1_3_bn (BatchNormal  (None, None, None,   4096       ['conv4_block1_3_conv[0][0]']    \n",
            " ization)                       1024)                                                             \n",
            "                                                                                                  \n",
            " conv4_block1_add (Add)         (None, None, None,   0           ['conv4_block1_0_bn[0][0]',      \n",
            "                                1024)                             'conv4_block1_3_bn[0][0]']      \n",
            "                                                                                                  \n",
            " conv4_block1_out (Activation)  (None, None, None,   0           ['conv4_block1_add[0][0]']       \n",
            "                                1024)                                                             \n",
            "                                                                                                  \n",
            " conv4_block2_1_conv (Conv2D)   (None, None, None,   262400      ['conv4_block1_out[0][0]']       \n",
            "                                256)                                                              \n",
            "                                                                                                  \n",
            " conv4_block2_1_bn (BatchNormal  (None, None, None,   1024       ['conv4_block2_1_conv[0][0]']    \n",
            " ization)                       256)                                                              \n",
            "                                                                                                  \n",
            " conv4_block2_1_relu (Activatio  (None, None, None,   0          ['conv4_block2_1_bn[0][0]']      \n",
            " n)                             256)                                                              \n",
            "                                                                                                  \n",
            " conv4_block2_2_conv (Conv2D)   (None, None, None,   590080      ['conv4_block2_1_relu[0][0]']    \n",
            "                                256)                                                              \n",
            "                                                                                                  \n",
            " conv4_block2_2_bn (BatchNormal  (None, None, None,   1024       ['conv4_block2_2_conv[0][0]']    \n",
            " ization)                       256)                                                              \n",
            "                                                                                                  \n",
            " conv4_block2_2_relu (Activatio  (None, None, None,   0          ['conv4_block2_2_bn[0][0]']      \n",
            " n)                             256)                                                              \n",
            "                                                                                                  \n",
            " conv4_block2_3_conv (Conv2D)   (None, None, None,   263168      ['conv4_block2_2_relu[0][0]']    \n",
            "                                1024)                                                             \n",
            "                                                                                                  \n",
            " conv4_block2_3_bn (BatchNormal  (None, None, None,   4096       ['conv4_block2_3_conv[0][0]']    \n",
            " ization)                       1024)                                                             \n",
            "                                                                                                  \n",
            " conv4_block2_add (Add)         (None, None, None,   0           ['conv4_block1_out[0][0]',       \n",
            "                                1024)                             'conv4_block2_3_bn[0][0]']      \n",
            "                                                                                                  \n",
            " conv4_block2_out (Activation)  (None, None, None,   0           ['conv4_block2_add[0][0]']       \n",
            "                                1024)                                                             \n",
            "                                                                                                  \n",
            " conv4_block3_1_conv (Conv2D)   (None, None, None,   262400      ['conv4_block2_out[0][0]']       \n",
            "                                256)                                                              \n",
            "                                                                                                  \n",
            " conv4_block3_1_bn (BatchNormal  (None, None, None,   1024       ['conv4_block3_1_conv[0][0]']    \n",
            " ization)                       256)                                                              \n",
            "                                                                                                  \n",
            " conv4_block3_1_relu (Activatio  (None, None, None,   0          ['conv4_block3_1_bn[0][0]']      \n",
            " n)                             256)                                                              \n",
            "                                                                                                  \n",
            " conv4_block3_2_conv (Conv2D)   (None, None, None,   590080      ['conv4_block3_1_relu[0][0]']    \n",
            "                                256)                                                              \n",
            "                                                                                                  \n",
            " conv4_block3_2_bn (BatchNormal  (None, None, None,   1024       ['conv4_block3_2_conv[0][0]']    \n",
            " ization)                       256)                                                              \n",
            "                                                                                                  \n",
            " conv4_block3_2_relu (Activatio  (None, None, None,   0          ['conv4_block3_2_bn[0][0]']      \n",
            " n)                             256)                                                              \n",
            "                                                                                                  \n",
            " conv4_block3_3_conv (Conv2D)   (None, None, None,   263168      ['conv4_block3_2_relu[0][0]']    \n",
            "                                1024)                                                             \n",
            "                                                                                                  \n",
            " conv4_block3_3_bn (BatchNormal  (None, None, None,   4096       ['conv4_block3_3_conv[0][0]']    \n",
            " ization)                       1024)                                                             \n",
            "                                                                                                  \n",
            " conv4_block3_add (Add)         (None, None, None,   0           ['conv4_block2_out[0][0]',       \n",
            "                                1024)                             'conv4_block3_3_bn[0][0]']      \n",
            "                                                                                                  \n",
            " conv4_block3_out (Activation)  (None, None, None,   0           ['conv4_block3_add[0][0]']       \n",
            "                                1024)                                                             \n",
            "                                                                                                  \n",
            " conv4_block4_1_conv (Conv2D)   (None, None, None,   262400      ['conv4_block3_out[0][0]']       \n",
            "                                256)                                                              \n",
            "                                                                                                  \n",
            " conv4_block4_1_bn (BatchNormal  (None, None, None,   1024       ['conv4_block4_1_conv[0][0]']    \n",
            " ization)                       256)                                                              \n",
            "                                                                                                  \n",
            " conv4_block4_1_relu (Activatio  (None, None, None,   0          ['conv4_block4_1_bn[0][0]']      \n",
            " n)                             256)                                                              \n",
            "                                                                                                  \n",
            " conv4_block4_2_conv (Conv2D)   (None, None, None,   590080      ['conv4_block4_1_relu[0][0]']    \n",
            "                                256)                                                              \n",
            "                                                                                                  \n",
            " conv4_block4_2_bn (BatchNormal  (None, None, None,   1024       ['conv4_block4_2_conv[0][0]']    \n",
            " ization)                       256)                                                              \n",
            "                                                                                                  \n",
            " conv4_block4_2_relu (Activatio  (None, None, None,   0          ['conv4_block4_2_bn[0][0]']      \n",
            " n)                             256)                                                              \n",
            "                                                                                                  \n",
            " conv4_block4_3_conv (Conv2D)   (None, None, None,   263168      ['conv4_block4_2_relu[0][0]']    \n",
            "                                1024)                                                             \n",
            "                                                                                                  \n",
            " conv4_block4_3_bn (BatchNormal  (None, None, None,   4096       ['conv4_block4_3_conv[0][0]']    \n",
            " ization)                       1024)                                                             \n",
            "                                                                                                  \n",
            " conv4_block4_add (Add)         (None, None, None,   0           ['conv4_block3_out[0][0]',       \n",
            "                                1024)                             'conv4_block4_3_bn[0][0]']      \n",
            "                                                                                                  \n",
            " conv4_block4_out (Activation)  (None, None, None,   0           ['conv4_block4_add[0][0]']       \n",
            "                                1024)                                                             \n",
            "                                                                                                  \n",
            " conv4_block5_1_conv (Conv2D)   (None, None, None,   262400      ['conv4_block4_out[0][0]']       \n",
            "                                256)                                                              \n",
            "                                                                                                  \n",
            " conv4_block5_1_bn (BatchNormal  (None, None, None,   1024       ['conv4_block5_1_conv[0][0]']    \n",
            " ization)                       256)                                                              \n",
            "                                                                                                  \n",
            " conv4_block5_1_relu (Activatio  (None, None, None,   0          ['conv4_block5_1_bn[0][0]']      \n",
            " n)                             256)                                                              \n",
            "                                                                                                  \n",
            " conv4_block5_2_conv (Conv2D)   (None, None, None,   590080      ['conv4_block5_1_relu[0][0]']    \n",
            "                                256)                                                              \n",
            "                                                                                                  \n",
            " conv4_block5_2_bn (BatchNormal  (None, None, None,   1024       ['conv4_block5_2_conv[0][0]']    \n",
            " ization)                       256)                                                              \n",
            "                                                                                                  \n",
            " conv4_block5_2_relu (Activatio  (None, None, None,   0          ['conv4_block5_2_bn[0][0]']      \n",
            " n)                             256)                                                              \n",
            "                                                                                                  \n",
            " conv4_block5_3_conv (Conv2D)   (None, None, None,   263168      ['conv4_block5_2_relu[0][0]']    \n",
            "                                1024)                                                             \n",
            "                                                                                                  \n",
            " conv4_block5_3_bn (BatchNormal  (None, None, None,   4096       ['conv4_block5_3_conv[0][0]']    \n",
            " ization)                       1024)                                                             \n",
            "                                                                                                  \n",
            " conv4_block5_add (Add)         (None, None, None,   0           ['conv4_block4_out[0][0]',       \n",
            "                                1024)                             'conv4_block5_3_bn[0][0]']      \n",
            "                                                                                                  \n",
            " conv4_block5_out (Activation)  (None, None, None,   0           ['conv4_block5_add[0][0]']       \n",
            "                                1024)                                                             \n",
            "                                                                                                  \n",
            " conv4_block6_1_conv (Conv2D)   (None, None, None,   262400      ['conv4_block5_out[0][0]']       \n",
            "                                256)                                                              \n",
            "                                                                                                  \n",
            " conv4_block6_1_bn (BatchNormal  (None, None, None,   1024       ['conv4_block6_1_conv[0][0]']    \n",
            " ization)                       256)                                                              \n",
            "                                                                                                  \n",
            " conv4_block6_1_relu (Activatio  (None, None, None,   0          ['conv4_block6_1_bn[0][0]']      \n",
            " n)                             256)                                                              \n",
            "                                                                                                  \n",
            " conv4_block6_2_conv (Conv2D)   (None, None, None,   590080      ['conv4_block6_1_relu[0][0]']    \n",
            "                                256)                                                              \n",
            "                                                                                                  \n",
            " conv4_block6_2_bn (BatchNormal  (None, None, None,   1024       ['conv4_block6_2_conv[0][0]']    \n",
            " ization)                       256)                                                              \n",
            "                                                                                                  \n",
            " conv4_block6_2_relu (Activatio  (None, None, None,   0          ['conv4_block6_2_bn[0][0]']      \n",
            " n)                             256)                                                              \n",
            "                                                                                                  \n",
            " conv4_block6_3_conv (Conv2D)   (None, None, None,   263168      ['conv4_block6_2_relu[0][0]']    \n",
            "                                1024)                                                             \n",
            "                                                                                                  \n",
            " conv4_block6_3_bn (BatchNormal  (None, None, None,   4096       ['conv4_block6_3_conv[0][0]']    \n",
            " ization)                       1024)                                                             \n",
            "                                                                                                  \n",
            " conv4_block6_add (Add)         (None, None, None,   0           ['conv4_block5_out[0][0]',       \n",
            "                                1024)                             'conv4_block6_3_bn[0][0]']      \n",
            "                                                                                                  \n",
            " conv4_block6_out (Activation)  (None, None, None,   0           ['conv4_block6_add[0][0]']       \n",
            "                                1024)                                                             \n",
            "                                                                                                  \n",
            " conv5_block1_1_conv (Conv2D)   (None, None, None,   524800      ['conv4_block6_out[0][0]']       \n",
            "                                512)                                                              \n",
            "                                                                                                  \n",
            " conv5_block1_1_bn (BatchNormal  (None, None, None,   2048       ['conv5_block1_1_conv[0][0]']    \n",
            " ization)                       512)                                                              \n",
            "                                                                                                  \n",
            " conv5_block1_1_relu (Activatio  (None, None, None,   0          ['conv5_block1_1_bn[0][0]']      \n",
            " n)                             512)                                                              \n",
            "                                                                                                  \n",
            " conv5_block1_2_conv (Conv2D)   (None, None, None,   2359808     ['conv5_block1_1_relu[0][0]']    \n",
            "                                512)                                                              \n",
            "                                                                                                  \n",
            " conv5_block1_2_bn (BatchNormal  (None, None, None,   2048       ['conv5_block1_2_conv[0][0]']    \n",
            " ization)                       512)                                                              \n",
            "                                                                                                  \n",
            " conv5_block1_2_relu (Activatio  (None, None, None,   0          ['conv5_block1_2_bn[0][0]']      \n",
            " n)                             512)                                                              \n",
            "                                                                                                  \n",
            " conv5_block1_0_conv (Conv2D)   (None, None, None,   2099200     ['conv4_block6_out[0][0]']       \n",
            "                                2048)                                                             \n",
            "                                                                                                  \n",
            " conv5_block1_3_conv (Conv2D)   (None, None, None,   1050624     ['conv5_block1_2_relu[0][0]']    \n",
            "                                2048)                                                             \n",
            "                                                                                                  \n",
            " conv5_block1_0_bn (BatchNormal  (None, None, None,   8192       ['conv5_block1_0_conv[0][0]']    \n",
            " ization)                       2048)                                                             \n",
            "                                                                                                  \n",
            " conv5_block1_3_bn (BatchNormal  (None, None, None,   8192       ['conv5_block1_3_conv[0][0]']    \n",
            " ization)                       2048)                                                             \n",
            "                                                                                                  \n",
            " conv5_block1_add (Add)         (None, None, None,   0           ['conv5_block1_0_bn[0][0]',      \n",
            "                                2048)                             'conv5_block1_3_bn[0][0]']      \n",
            "                                                                                                  \n",
            " conv5_block1_out (Activation)  (None, None, None,   0           ['conv5_block1_add[0][0]']       \n",
            "                                2048)                                                             \n",
            "                                                                                                  \n",
            " conv5_block2_1_conv (Conv2D)   (None, None, None,   1049088     ['conv5_block1_out[0][0]']       \n",
            "                                512)                                                              \n",
            "                                                                                                  \n",
            " conv5_block2_1_bn (BatchNormal  (None, None, None,   2048       ['conv5_block2_1_conv[0][0]']    \n",
            " ization)                       512)                                                              \n",
            "                                                                                                  \n",
            " conv5_block2_1_relu (Activatio  (None, None, None,   0          ['conv5_block2_1_bn[0][0]']      \n",
            " n)                             512)                                                              \n",
            "                                                                                                  \n",
            " conv5_block2_2_conv (Conv2D)   (None, None, None,   2359808     ['conv5_block2_1_relu[0][0]']    \n",
            "                                512)                                                              \n",
            "                                                                                                  \n",
            " conv5_block2_2_bn (BatchNormal  (None, None, None,   2048       ['conv5_block2_2_conv[0][0]']    \n",
            " ization)                       512)                                                              \n",
            "                                                                                                  \n",
            " conv5_block2_2_relu (Activatio  (None, None, None,   0          ['conv5_block2_2_bn[0][0]']      \n",
            " n)                             512)                                                              \n",
            "                                                                                                  \n",
            " conv5_block2_3_conv (Conv2D)   (None, None, None,   1050624     ['conv5_block2_2_relu[0][0]']    \n",
            "                                2048)                                                             \n",
            "                                                                                                  \n",
            " conv5_block2_3_bn (BatchNormal  (None, None, None,   8192       ['conv5_block2_3_conv[0][0]']    \n",
            " ization)                       2048)                                                             \n",
            "                                                                                                  \n",
            " conv5_block2_add (Add)         (None, None, None,   0           ['conv5_block1_out[0][0]',       \n",
            "                                2048)                             'conv5_block2_3_bn[0][0]']      \n",
            "                                                                                                  \n",
            " conv5_block2_out (Activation)  (None, None, None,   0           ['conv5_block2_add[0][0]']       \n",
            "                                2048)                                                             \n",
            "                                                                                                  \n",
            " conv5_block3_1_conv (Conv2D)   (None, None, None,   1049088     ['conv5_block2_out[0][0]']       \n",
            "                                512)                                                              \n",
            "                                                                                                  \n",
            " conv5_block3_1_bn (BatchNormal  (None, None, None,   2048       ['conv5_block3_1_conv[0][0]']    \n",
            " ization)                       512)                                                              \n",
            "                                                                                                  \n",
            " conv5_block3_1_relu (Activatio  (None, None, None,   0          ['conv5_block3_1_bn[0][0]']      \n",
            " n)                             512)                                                              \n",
            "                                                                                                  \n",
            " conv5_block3_2_conv (Conv2D)   (None, None, None,   2359808     ['conv5_block3_1_relu[0][0]']    \n",
            "                                512)                                                              \n",
            "                                                                                                  \n",
            " conv5_block3_2_bn (BatchNormal  (None, None, None,   2048       ['conv5_block3_2_conv[0][0]']    \n",
            " ization)                       512)                                                              \n",
            "                                                                                                  \n",
            " conv5_block3_2_relu (Activatio  (None, None, None,   0          ['conv5_block3_2_bn[0][0]']      \n",
            " n)                             512)                                                              \n",
            "                                                                                                  \n",
            " conv5_block3_3_conv (Conv2D)   (None, None, None,   1050624     ['conv5_block3_2_relu[0][0]']    \n",
            "                                2048)                                                             \n",
            "                                                                                                  \n",
            " conv5_block3_3_bn (BatchNormal  (None, None, None,   8192       ['conv5_block3_3_conv[0][0]']    \n",
            " ization)                       2048)                                                             \n",
            "                                                                                                  \n",
            " conv5_block3_add (Add)         (None, None, None,   0           ['conv5_block2_out[0][0]',       \n",
            "                                2048)                             'conv5_block3_3_bn[0][0]']      \n",
            "                                                                                                  \n",
            " conv5_block3_out (Activation)  (None, None, None,   0           ['conv5_block3_add[0][0]']       \n",
            "                                2048)                                                             \n",
            "                                                                                                  \n",
            "==================================================================================================\n",
            "Total params: 23,587,712\n",
            "Trainable params: 23,534,592\n",
            "Non-trainable params: 53,120\n",
            "__________________________________________________________________________________________________\n"
          ]
        }
      ]
    },
    {
      "cell_type": "code",
      "source": [
        "base_model.trainable= False\n",
        "# As we're using Transfer Learning, you do not need to train all the layers. Freeze all of the layers or train some layers (experiment)"
      ],
      "metadata": {
        "id": "F_Heq3C1eKd-"
      },
      "execution_count": 18,
      "outputs": []
    },
    {
      "cell_type": "code",
      "source": [
        "# Append Fully connected/custom Conv2D/Dropout/MaxPooling layers to the base model\n",
        "IMG_SIZE=(128,128,3)\n",
        "inputs = keras.Input(shape=IMG_SIZE)\n",
        "x = inputs\n",
        "x = base_model(x, training=False)\n",
        "x = keras.layers.Flatten()(x)\n",
        "x = keras.layers.Dense(512)(x)\n",
        "x = keras.layers.Dropout(0.2)(x)"
      ],
      "metadata": {
        "id": "MKx1EtUJea6D"
      },
      "execution_count": 20,
      "outputs": []
    },
    {
      "cell_type": "code",
      "source": [
        "# Add the final output layer\n",
        "outputs = keras.layers.Dense(3, activation=\"softmax\")(x)\n",
        "model = keras.Model(inputs, outputs)\n",
        "model.summary()"
      ],
      "metadata": {
        "id": "q6I3oTTNgP8L",
        "outputId": "024f7acc-2ff1-405c-81c2-815401af9223",
        "colab": {
          "base_uri": "https://localhost:8080/"
        }
      },
      "execution_count": 21,
      "outputs": [
        {
          "output_type": "stream",
          "name": "stdout",
          "text": [
            "Model: \"model_1\"\n",
            "_________________________________________________________________\n",
            " Layer (type)                Output Shape              Param #   \n",
            "=================================================================\n",
            " input_4 (InputLayer)        [(None, 128, 128, 3)]     0         \n",
            "                                                                 \n",
            " resnet50 (Functional)       (None, None, None, 2048)  23587712  \n",
            "                                                                 \n",
            " flatten_1 (Flatten)         (None, 32768)             0         \n",
            "                                                                 \n",
            " dense_2 (Dense)             (None, 512)               16777728  \n",
            "                                                                 \n",
            " dropout_1 (Dropout)         (None, 512)               0         \n",
            "                                                                 \n",
            " dense_3 (Dense)             (None, 3)                 1539      \n",
            "                                                                 \n",
            "=================================================================\n",
            "Total params: 40,366,979\n",
            "Trainable params: 16,779,267\n",
            "Non-trainable params: 23,587,712\n",
            "_________________________________________________________________\n"
          ]
        }
      ]
    },
    {
      "cell_type": "code",
      "source": [
        "# Compile you model (set the parameters like loss/optimizers/metrics)\n",
        "\n",
        "model.compile(optimizer=Adam(learning_rate=0.001),loss='sparse_categorical_crossentropy',metrics=['accuracy'])\n"
      ],
      "metadata": {
        "id": "qdC71fUBgXAg"
      },
      "execution_count": 22,
      "outputs": []
    },
    {
      "cell_type": "markdown",
      "source": [
        "### Data Augmentation and Pre-processing\n",
        "Augment the data. You may also try dyanamic augmentation using [`tf.keras.preprocessing.image.ImageDataGenerator `](https://www.tensorflow.org/api_docs/python/tf/keras/preprocessing/image/ImageDataGenerator).   \n",
        "You may use [`tf.keras.applications.vgg16.preprocess_input`](https://www.tensorflow.org/api_docs/python/tf/keras/applications/vgg16/preprocess_input)(or some other base model's utility) for pre-processing (can also be passed as a parameter to `ImageDataGenerator`)"
      ],
      "metadata": {
        "id": "RdUSMLggifex"
      }
    },
    {
      "cell_type": "code",
      "source": [
        "#from keras.applications.vgg16 import preprocess_input # Change according to your base model\n",
        "from tensorflow.keras.preprocessing.image import ImageDataGenerator\n",
        "train_data_gen=ImageDataGenerator(\n",
        "      \n",
        "      fill_mode='nearest',\n",
        "      width_shift_range=0.4,\n",
        "      zoom_range=0.5,\n",
        "      rescale=1./255,\n",
        "      horizontal_flip=True,\n",
        "      rotation_range=20,\n",
        "      height_shift_range=0.4,\n",
        "      shear_range=0.2,\n",
        "      validation_split=0.4,\n",
        ")\n",
        "\n",
        "\n",
        "# Your code  shear_range=0.2, zoom_range = 0.2"
      ],
      "metadata": {
        "id": "DBscSsvkgn39"
      },
      "execution_count": 51,
      "outputs": []
    },
    {
      "cell_type": "markdown",
      "source": [
        "### Training and Validation Dataset  \n",
        "Split the dataset into training and validation (We'll be looking for your validation accuracy, assume we are using complete dataset for now). \n",
        "\n",
        "Hint: `flow_from_directory` used with `ImageDataGenerator` will simplify things for you."
      ],
      "metadata": {
        "id": "IcKPxCpOkcuG"
      }
    },
    {
      "cell_type": "code",
      "source": [
        "# Your code\n",
        "train_generator = train_data_gen.flow_from_directory(\n",
        "    directory=path,\n",
        "    target_size=(128,128),\n",
        "    color_mode='rgb',\n",
        "    subset=\"training\",\n",
        "    class_mode='categorical',\n",
        "    batch_size=64)\n",
        "validation_generator = train_data_gen.flow_from_directory(\n",
        "    directory=path,\n",
        "    target_size=(128,128),\n",
        "    color_mode='rgb',\n",
        "    subset=\"validation\",\n",
        "    class_mode='categorical',\n",
        "    batch_size=64)"
      ],
      "metadata": {
        "id": "sB7hb3ybkJRq",
        "outputId": "c9a9cc0e-fdd2-4ef5-f0be-b81dd72686d6",
        "colab": {
          "base_uri": "https://localhost:8080/"
        }
      },
      "execution_count": 41,
      "outputs": [
        {
          "output_type": "stream",
          "name": "stdout",
          "text": [
            "Found 5391 images belonging to 3 classes.\n",
            "Found 3591 images belonging to 3 classes.\n"
          ]
        }
      ]
    },
    {
      "cell_type": "markdown",
      "source": [
        "### Training  \n",
        "Train your model for some epochs and plot the graph. Try and save your best model. Experiment with the parameters of `model.fit`"
      ],
      "metadata": {
        "id": "ZZPsjpT1mp3z"
      }
    },
    {
      "cell_type": "code",
      "source": [
        "from keras.callbacks import ModelCheckpoint\n",
        "# ModelCheckpoint is helpful to save the model giving best results (brownie points)\n",
        "#model.fit(train_generator, validation_generator, epochs = 1)\n",
        "history = model.fit(train_generator, validation_data=validation_generator, epochs=10)"
      ],
      "metadata": {
        "id": "Gs2X14MBmu7W"
      },
      "execution_count": null,
      "outputs": []
    },
    {
      "cell_type": "markdown",
      "source": [
        "### Evaluate the performance"
      ],
      "metadata": {
        "id": "FTvRa1FXri4R"
      }
    },
    {
      "cell_type": "code",
      "source": [
        "# Plot training & validation loss/accuracy values\n"
      ],
      "metadata": {
        "id": "cTH6flzcrck0"
      },
      "execution_count": null,
      "outputs": []
    },
    {
      "cell_type": "code",
      "source": [
        "from sklearn.metrics import classification_report, confusion_matrix\n",
        "import numpy as np\n",
        "\n",
        "# print classification report"
      ],
      "metadata": {
        "id": "fJ-ZtU84r66Z"
      },
      "execution_count": null,
      "outputs": []
    },
    {
      "cell_type": "code",
      "source": [
        "# Use the classification report to print precision, recall, f1-score for the three classes(optional, brownie points)"
      ],
      "metadata": {
        "id": "VytDxkswrvXw"
      },
      "execution_count": null,
      "outputs": []
    }
  ]
}